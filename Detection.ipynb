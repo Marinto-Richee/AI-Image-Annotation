{
 "cells": [
  {
   "cell_type": "markdown",
   "metadata": {},
   "source": [
    "# Detection Base models"
   ]
  },
  {
   "cell_type": "code",
   "execution_count": null,
   "metadata": {},
   "outputs": [],
   "source": [
    "\"\"\"\n",
    "Install necessary packages for image annotation and detection.\n",
    "\"\"\"\n",
    "!pip3 install autodistill-grounding-dino\n",
    "!pip3 install autodistill-kosmos-2\n",
    "!pip3 install autodistill-owlv2\n",
    "!pip3 install autodistill-yolo-world"
   ]
  },
  {
   "cell_type": "code",
   "execution_count": null,
   "metadata": {},
   "outputs": [],
   "source": [
    "import matplotlib.pyplot as plt\n",
    "import cv2\n",
    "def plot_bounding_box(image_path, detections):\n",
    "    # Read the image\n",
    "    image = cv2.imread(image_path)\n",
    "\n",
    "    # Iterate over each detection\n",
    "    for i, detection in enumerate(detections.xyxy):\n",
    "        # Extract detection information\n",
    "        x1, y1, x2, y2 = map(int, detection)\n",
    "        confidence = detections.confidence[i]\n",
    "        class_id = detections.class_id[i]\n",
    "\n",
    "        # Draw bounding box rectangle\n",
    "        cv2.rectangle(image, (x1, y1), (x2, y2), (0, 255, 0), 2)\n",
    "\n",
    "        # Display confidence and class label\n",
    "        label = f\"Class: {class_id}, Confidence: {confidence:.2f}\"\n",
    "        #text with class and confidence and background\n",
    "        cv2.putText(image, label, (x1, y1 - 10), cv2.FONT_HERSHEY_SIMPLEX, 0.9, (0, 0, 0), 2)\n",
    "\n",
    "    # Show the image with bounding boxes\n",
    "    #turn off axis\n",
    "    plt.axis('off')\n",
    "    plt.imshow(cv2.cvtColor(image, cv2.COLOR_BGR2RGB))"
   ]
  },
  {
   "cell_type": "markdown",
   "metadata": {},
   "source": [
    "Autodistill Grounding DINO Module"
   ]
  },
  {
   "cell_type": "code",
   "execution_count": null,
   "metadata": {},
   "outputs": [],
   "source": [
    "from autodistill_grounding_dino import GroundingDINO\n",
    "from autodistill.detection import CaptionOntology\n",
    "base_model = GroundingDINO(ontology=CaptionOntology({\"Person\": \"Human\"}))\n",
    "results = base_model.predict(\"test.jpg\")\n",
    "plot_bounding_box('test.jpg', results)"
   ]
  },
  {
   "cell_type": "markdown",
   "metadata": {},
   "source": [
    "Autodistill Kosmos-2 Module"
   ]
  },
  {
   "cell_type": "code",
   "execution_count": null,
   "metadata": {},
   "outputs": [],
   "source": [
    "from autodistill_kosmos_2 import Kosmos2\n",
    "from autodistill.detection import CaptionOntology\n",
    "base_model = Kosmos2(\n",
    "    ontology=CaptionOntology(\n",
    "        {\n",
    "            \"person\": \"person\",\n",
    "            \"a forklift\": \"forklift\"\n",
    "        }\n",
    "    )\n",
    ")\n",
    "\n",
    "predictions = base_model.predict(\"test.jpg\")\n",
    "plot_bounding_box('test.jpg', predictions)"
   ]
  },
  {
   "cell_type": "markdown",
   "metadata": {},
   "source": [
    "Autodistill OWLv2 Module"
   ]
  },
  {
   "cell_type": "code",
   "execution_count": null,
   "metadata": {},
   "outputs": [],
   "source": [
    "from autodistill_owlv2 import OWLv2\n",
    "from autodistill.detection import CaptionOntology\n",
    "base_model = OWLv2(\n",
    "    ontology=CaptionOntology(\n",
    "        {\n",
    "            \"person\": \"person\",\n",
    "            \"dog\": \"dog\"\n",
    "        }\n",
    "    )\n",
    ")\n",
    "results = base_model.predict(\"test.jpg\")\n",
    "plot_bounding_box('test.jpg', results)\n"
   ]
  },
  {
   "cell_type": "markdown",
   "metadata": {},
   "source": [
    "Autodistill YOLO-World Module"
   ]
  },
  {
   "cell_type": "code",
   "execution_count": null,
   "metadata": {},
   "outputs": [],
   "source": [
    "from autodistill_yolo_world import YOLOWorldModel\n",
    "from autodistill.detection import CaptionOntology\n",
    "base_model = YOLOWorldModel(\n",
    "    ontology=CaptionOntology(\n",
    "        {\n",
    "            'cycle': 'cycle',\n",
    "        }\n",
    "    )\n",
    "    \n",
    ")\n",
    "result = base_model.predict(\"test.jpg\")\n",
    "plot_bounding_box('test.jpg', result)"
   ]
  },
  {
   "cell_type": "code",
   "execution_count": null,
   "metadata": {},
   "outputs": [],
   "source": []
  }
 ],
 "metadata": {
  "kernelspec": {
   "display_name": "image_annotator_env",
   "language": "python",
   "name": "python3"
  },
  "language_info": {
   "codemirror_mode": {
    "name": "ipython",
    "version": 3
   },
   "file_extension": ".py",
   "mimetype": "text/x-python",
   "name": "python",
   "nbconvert_exporter": "python",
   "pygments_lexer": "ipython3",
   "version": "3.10.13"
  }
 },
 "nbformat": 4,
 "nbformat_minor": 2
}
